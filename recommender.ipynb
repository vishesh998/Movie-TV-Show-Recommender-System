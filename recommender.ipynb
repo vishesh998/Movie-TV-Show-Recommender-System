{
 "cells": [
  {
   "cell_type": "markdown",
   "metadata": {},
   "source": [
    "## Implementing a simple content based recommendation system"
   ]
  },
  {
   "cell_type": "markdown",
   "metadata": {},
   "source": [
    "# Importing all the necessary libraries"
   ]
  },
  {
   "cell_type": "code",
   "execution_count": 286,
   "metadata": {},
   "outputs": [],
   "source": [
    "import pandas as pd\n",
    "import numpy as np\n",
    "from nltk.corpus import stopwords\n",
    "import string\n",
    "from sklearn.feature_extraction.text import CountVectorizer\n",
    "from sklearn.metrics.pairwise import cosine_similarity\n",
    "from itertools import chain"
   ]
  },
  {
   "cell_type": "markdown",
   "metadata": {},
   "source": [
    "## Reading the dataset"
   ]
  },
  {
   "cell_type": "code",
   "execution_count": 47,
   "metadata": {},
   "outputs": [],
   "source": [
    "df = pd.read_csv('netflix_titles.csv')"
   ]
  },
  {
   "cell_type": "markdown",
   "metadata": {},
   "source": [
    "## Exploring the data "
   ]
  },
  {
   "cell_type": "code",
   "execution_count": 321,
   "metadata": {},
   "outputs": [
    {
     "data": {
      "text/html": [
       "<div>\n",
       "<style scoped>\n",
       "    .dataframe tbody tr th:only-of-type {\n",
       "        vertical-align: middle;\n",
       "    }\n",
       "\n",
       "    .dataframe tbody tr th {\n",
       "        vertical-align: top;\n",
       "    }\n",
       "\n",
       "    .dataframe thead th {\n",
       "        text-align: right;\n",
       "    }\n",
       "</style>\n",
       "<table border=\"1\" class=\"dataframe\">\n",
       "  <thead>\n",
       "    <tr style=\"text-align: right;\">\n",
       "      <th></th>\n",
       "      <th>show_id</th>\n",
       "      <th>type</th>\n",
       "      <th>title</th>\n",
       "      <th>director</th>\n",
       "      <th>cast</th>\n",
       "      <th>country</th>\n",
       "      <th>date_added</th>\n",
       "      <th>release_year</th>\n",
       "      <th>rating</th>\n",
       "      <th>duration</th>\n",
       "      <th>listed_in</th>\n",
       "      <th>description</th>\n",
       "      <th>combined_features</th>\n",
       "    </tr>\n",
       "  </thead>\n",
       "  <tbody>\n",
       "    <tr>\n",
       "      <th>6229</th>\n",
       "      <td>80000063</td>\n",
       "      <td>TV Show</td>\n",
       "      <td>Red vs. Blue</td>\n",
       "      <td></td>\n",
       "      <td>Burnie Burns, Jason Saldaña, Gustavo Sorola, G...</td>\n",
       "      <td>United States</td>\n",
       "      <td></td>\n",
       "      <td>2015</td>\n",
       "      <td>NR</td>\n",
       "      <td>13 Seasons</td>\n",
       "      <td>TV Action &amp; Adventure, TV Comedies, TV Sci-Fi ...</td>\n",
       "      <td>[parody, firstperson, shooter, games, military...</td>\n",
       "      <td>TV Show Red vs. Blue  Burnie Burns, Jason Sald...</td>\n",
       "    </tr>\n",
       "    <tr>\n",
       "      <th>6230</th>\n",
       "      <td>70286564</td>\n",
       "      <td>TV Show</td>\n",
       "      <td>Maron</td>\n",
       "      <td></td>\n",
       "      <td>Marc Maron, Judd Hirsch, Josh Brener, Nora Zeh...</td>\n",
       "      <td>United States</td>\n",
       "      <td></td>\n",
       "      <td>2016</td>\n",
       "      <td>TV-MA</td>\n",
       "      <td>4 Seasons</td>\n",
       "      <td>TV Comedies</td>\n",
       "      <td>[Marc, Maron, stars, Marc, Maron, interviews, ...</td>\n",
       "      <td>TV Show Maron  Marc Maron, Judd Hirsch, Josh B...</td>\n",
       "    </tr>\n",
       "    <tr>\n",
       "      <th>6231</th>\n",
       "      <td>80116008</td>\n",
       "      <td>Movie</td>\n",
       "      <td>Little Baby Bum: Nursery Rhyme Friends</td>\n",
       "      <td></td>\n",
       "      <td></td>\n",
       "      <td></td>\n",
       "      <td></td>\n",
       "      <td>2016</td>\n",
       "      <td></td>\n",
       "      <td>60 min</td>\n",
       "      <td>Movies</td>\n",
       "      <td>[Nursery, rhymes, original, music, children, a...</td>\n",
       "      <td>Movie Little Baby Bum: Nursery Rhyme Friends  ...</td>\n",
       "    </tr>\n",
       "    <tr>\n",
       "      <th>6232</th>\n",
       "      <td>70281022</td>\n",
       "      <td>TV Show</td>\n",
       "      <td>A Young Doctor's Notebook and Other Stories</td>\n",
       "      <td></td>\n",
       "      <td>Daniel Radcliffe, Jon Hamm, Adam Godley, Chris...</td>\n",
       "      <td>United Kingdom</td>\n",
       "      <td></td>\n",
       "      <td>2013</td>\n",
       "      <td>TV-MA</td>\n",
       "      <td>2 Seasons</td>\n",
       "      <td>British TV Shows, TV Comedies, TV Dramas</td>\n",
       "      <td>[Set, Russian, Revolution, comic, miniseries, ...</td>\n",
       "      <td>TV Show A Young Doctor's Notebook and Other St...</td>\n",
       "    </tr>\n",
       "    <tr>\n",
       "      <th>6233</th>\n",
       "      <td>70153404</td>\n",
       "      <td>TV Show</td>\n",
       "      <td>Friends</td>\n",
       "      <td></td>\n",
       "      <td>Jennifer Aniston, Courteney Cox, Lisa Kudrow, ...</td>\n",
       "      <td>United States</td>\n",
       "      <td></td>\n",
       "      <td>2003</td>\n",
       "      <td>TV-14</td>\n",
       "      <td>10 Seasons</td>\n",
       "      <td>Classic &amp; Cult TV, TV Comedies</td>\n",
       "      <td>[hit, sitcom, follows, merry, misadventures, s...</td>\n",
       "      <td>TV Show Friends  Jennifer Aniston, Courteney C...</td>\n",
       "    </tr>\n",
       "  </tbody>\n",
       "</table>\n",
       "</div>"
      ],
      "text/plain": [
       "       show_id     type                                        title director  \\\n",
       "6229  80000063  TV Show                                 Red vs. Blue            \n",
       "6230  70286564  TV Show                                        Maron            \n",
       "6231  80116008    Movie       Little Baby Bum: Nursery Rhyme Friends            \n",
       "6232  70281022  TV Show  A Young Doctor's Notebook and Other Stories            \n",
       "6233  70153404  TV Show                                      Friends            \n",
       "\n",
       "                                                   cast         country  \\\n",
       "6229  Burnie Burns, Jason Saldaña, Gustavo Sorola, G...   United States   \n",
       "6230  Marc Maron, Judd Hirsch, Josh Brener, Nora Zeh...   United States   \n",
       "6231                                                                      \n",
       "6232  Daniel Radcliffe, Jon Hamm, Adam Godley, Chris...  United Kingdom   \n",
       "6233  Jennifer Aniston, Courteney Cox, Lisa Kudrow, ...   United States   \n",
       "\n",
       "     date_added  release_year rating    duration  \\\n",
       "6229                     2015     NR  13 Seasons   \n",
       "6230                     2016  TV-MA   4 Seasons   \n",
       "6231                     2016             60 min   \n",
       "6232                     2013  TV-MA   2 Seasons   \n",
       "6233                     2003  TV-14  10 Seasons   \n",
       "\n",
       "                                              listed_in  \\\n",
       "6229  TV Action & Adventure, TV Comedies, TV Sci-Fi ...   \n",
       "6230                                        TV Comedies   \n",
       "6231                                             Movies   \n",
       "6232           British TV Shows, TV Comedies, TV Dramas   \n",
       "6233                     Classic & Cult TV, TV Comedies   \n",
       "\n",
       "                                            description  \\\n",
       "6229  [parody, firstperson, shooter, games, military...   \n",
       "6230  [Marc, Maron, stars, Marc, Maron, interviews, ...   \n",
       "6231  [Nursery, rhymes, original, music, children, a...   \n",
       "6232  [Set, Russian, Revolution, comic, miniseries, ...   \n",
       "6233  [hit, sitcom, follows, merry, misadventures, s...   \n",
       "\n",
       "                                      combined_features  \n",
       "6229  TV Show Red vs. Blue  Burnie Burns, Jason Sald...  \n",
       "6230  TV Show Maron  Marc Maron, Judd Hirsch, Josh B...  \n",
       "6231  Movie Little Baby Bum: Nursery Rhyme Friends  ...  \n",
       "6232  TV Show A Young Doctor's Notebook and Other St...  \n",
       "6233  TV Show Friends  Jennifer Aniston, Courteney C...  "
      ]
     },
     "execution_count": 321,
     "metadata": {},
     "output_type": "execute_result"
    }
   ],
   "source": [
    "df.tail()"
   ]
  },
  {
   "cell_type": "code",
   "execution_count": 49,
   "metadata": {
    "collapsed": true
   },
   "outputs": [
    {
     "name": "stdout",
     "output_type": "stream",
     "text": [
      "<class 'pandas.core.frame.DataFrame'>\n",
      "RangeIndex: 6234 entries, 0 to 6233\n",
      "Data columns (total 12 columns):\n",
      " #   Column        Non-Null Count  Dtype \n",
      "---  ------        --------------  ----- \n",
      " 0   show_id       6234 non-null   int64 \n",
      " 1   type          6234 non-null   object\n",
      " 2   title         6234 non-null   object\n",
      " 3   director      4265 non-null   object\n",
      " 4   cast          5664 non-null   object\n",
      " 5   country       5758 non-null   object\n",
      " 6   date_added    6223 non-null   object\n",
      " 7   release_year  6234 non-null   int64 \n",
      " 8   rating        6224 non-null   object\n",
      " 9   duration      6234 non-null   object\n",
      " 10  listed_in     6234 non-null   object\n",
      " 11  description   6234 non-null   object\n",
      "dtypes: int64(2), object(10)\n",
      "memory usage: 584.6+ KB\n"
     ]
    }
   ],
   "source": [
    "df.info()"
   ]
  },
  {
   "cell_type": "code",
   "execution_count": 50,
   "metadata": {
    "collapsed": true
   },
   "outputs": [
    {
     "data": {
      "text/plain": [
       "show_id            0\n",
       "type               0\n",
       "title              0\n",
       "director        1969\n",
       "cast             570\n",
       "country          476\n",
       "date_added        11\n",
       "release_year       0\n",
       "rating            10\n",
       "duration           0\n",
       "listed_in          0\n",
       "description        0\n",
       "dtype: int64"
      ]
     },
     "execution_count": 50,
     "metadata": {},
     "output_type": "execute_result"
    }
   ],
   "source": [
    "df.isnull().sum()"
   ]
  },
  {
   "cell_type": "markdown",
   "metadata": {},
   "source": [
    "###### There appears to be some null values in the columns 'Director', 'Cast', 'Country' and 'date_added'. We will replace them by a whitespace."
   ]
  },
  {
   "cell_type": "code",
   "execution_count": 51,
   "metadata": {},
   "outputs": [],
   "source": [
    "df.fillna('', inplace=True)"
   ]
  },
  {
   "cell_type": "code",
   "execution_count": 52,
   "metadata": {
    "collapsed": true
   },
   "outputs": [
    {
     "data": {
      "text/plain": [
       "show_id         0\n",
       "type            0\n",
       "title           0\n",
       "director        0\n",
       "cast            0\n",
       "country         0\n",
       "date_added      0\n",
       "release_year    0\n",
       "rating          0\n",
       "duration        0\n",
       "listed_in       0\n",
       "description     0\n",
       "dtype: int64"
      ]
     },
     "execution_count": 52,
     "metadata": {},
     "output_type": "execute_result"
    }
   ],
   "source": [
    "df.isnull().sum()"
   ]
  },
  {
   "cell_type": "markdown",
   "metadata": {},
   "source": [
    "##### The features that i'm choosing are ['type', 'title', 'director', 'cast', 'listed_in', 'description']."
   ]
  },
  {
   "cell_type": "markdown",
   "metadata": {},
   "source": [
    "###### Taking out unnecessary 'stopwords' from the column 'description'"
   ]
  },
  {
   "cell_type": "code",
   "execution_count": 98,
   "metadata": {},
   "outputs": [],
   "source": [
    "def cleanup(text):\n",
    "    #removing punctuations\n",
    "    no_punc = [char for char in text if char not in string.punctuation]\n",
    "    no_punc = ''.join(no_punc)\n",
    "    #removing the stopwords\n",
    "    clean_info = [word for word in no_punc.split() if word.lower() not in stopwords.words('english')]\n",
    "    return clean_info"
   ]
  },
  {
   "cell_type": "code",
   "execution_count": 104,
   "metadata": {},
   "outputs": [],
   "source": [
    "df['description'] = df['description'].apply(cleanup)"
   ]
  },
  {
   "cell_type": "markdown",
   "metadata": {},
   "source": [
    "###### Now we're combining all the relevant features and storing them in a single column."
   ]
  },
  {
   "cell_type": "code",
   "execution_count": 111,
   "metadata": {},
   "outputs": [],
   "source": [
    "def features(row):\n",
    "    return row['type']+\" \"+row['title']+\" \"+row['director']+' '+row['cast']+' '+row['listed_in']+' '+str(row['description'])"
   ]
  },
  {
   "cell_type": "code",
   "execution_count": 112,
   "metadata": {},
   "outputs": [],
   "source": [
    "df['combined_features'] = df.apply(features, axis=1)"
   ]
  },
  {
   "cell_type": "markdown",
   "metadata": {},
   "source": [
    "###### Using the CountVectorizer function on the combined_features column to get a 'count_matrix' that contains the word counts of each row"
   ]
  },
  {
   "cell_type": "code",
   "execution_count": 116,
   "metadata": {},
   "outputs": [],
   "source": [
    "cv = CountVectorizer()\n",
    "count_matrix = cv.fit_transform(df['combined_features'])"
   ]
  },
  {
   "cell_type": "markdown",
   "metadata": {},
   "source": [
    "###### Now calculating the cosine similarity of all the rows.\n",
    "#The resulting matrix of the cosine similarities will be stored in the 'cos_sim' variable"
   ]
  },
  {
   "cell_type": "code",
   "execution_count": 312,
   "metadata": {},
   "outputs": [],
   "source": [
    "cos_sim = cosine_similarity(count_matrix)"
   ]
  },
  {
   "cell_type": "markdown",
   "metadata": {},
   "source": [
    "###### Functions to get the Movie name from it's index value (get_title_from_index) and a function to get index from the title (get_index_from_title)"
   ]
  },
  {
   "cell_type": "code",
   "execution_count": 260,
   "metadata": {},
   "outputs": [],
   "source": [
    "def get_index_from_title(name):\n",
    "    return df.index[df.title==name].values\n",
    "def get_title_from_index(m_index):\n",
    "    return df[df.index==m_index]['title'].values"
   ]
  },
  {
   "cell_type": "code",
   "execution_count": 338,
   "metadata": {},
   "outputs": [],
   "source": [
    "movie_name='Raees' #movie on which the recommendation will be calculated and displayed\n",
    "movie_index = get_index_from_title(movie_name) #getting the index of the movie from the movie name\n",
    "similar_movies = cos_sim[movie_index] #fetching the similarity scores of all the movies against the given 'movie_name' from the 'cosine_similarity' matrix\n",
    "similar_movies = list(enumerate(chain.from_iterable(similar_movies))) #Converting the resulting list of similarity scores into a list of tuples where each tuple contains the individual movie's index on the 0th index and it's similarity score on the 1st index\n",
    "sorted_movies = sorted(similar_movies, key= lambda x: x[1], reverse=True) #Now using the similarity score of each tuple to arrange the similarity scores in descending order"
   ]
  },
  {
   "cell_type": "markdown",
   "metadata": {},
   "source": [
    "###### Displaying the recommendation using the index from each tuple associated with the similarity score and fetching the movie name using that index as a reference in the original df"
   ]
  },
  {
   "cell_type": "code",
   "execution_count": 339,
   "metadata": {},
   "outputs": [
    {
     "name": "stdout",
     "output_type": "stream",
     "text": [
      "['Raees']\n",
      "['My Next Guest with David Letterman and Shah Rukh Khan']\n",
      "['Zero']\n",
      "['Phantom']\n",
      "['Mumbai Cha Raja']\n",
      "['Chaahat']\n",
      "['Don 2']\n",
      "['Kisaan']\n",
      "['Dil Chahta Hai']\n",
      "['Talaash']\n",
      "['Asoka']\n"
     ]
    }
   ],
   "source": [
    "#displaying the top 10 suggestions\n",
    "i=0\n",
    "for movie in sorted_movies:\n",
    "    print(get_title_from_index(movie[0]))\n",
    "    i+=1\n",
    "    if i>10:\n",
    "        break"
   ]
  },
  {
   "cell_type": "code",
   "execution_count": 343,
   "metadata": {},
   "outputs": [
    {
     "name": "stdout",
     "output_type": "stream",
     "text": [
      "What was the last movie or TV Show you watched?: Narcos\n",
      "['Narcos']\n",
      "['Narcos: Mexico']\n",
      "['Wild District']\n",
      "['Luis Miguel - The Series']\n",
      "['El Cartel']\n",
      "['La Reina del Sur']\n",
      "['Sin senos no hay paraíso']\n",
      "['La Viuda Negra']\n",
      "['Rosario Tijeras']\n",
      "['Dueños del paraíso']\n",
      "['El Clon']\n"
     ]
    }
   ],
   "source": [
    "def suggest(name):\n",
    "\n",
    "    movie_index = get_index_from_title(name) #getting the index of the movie from the movie name\n",
    "    similar_movies = cos_sim[movie_index] #fetching the similarity scores of all the movies against the given 'movie_name' from the 'cosine_similarity' matrix\n",
    "    similar_movies = list(enumerate(chain.from_iterable(similar_movies))) #Converting the resulting list of similarity scores into a list of tuples where each tuple contains the individual movie's index on the 0th index and it's similarity score on the 1st index\n",
    "    sorted_movies = sorted(similar_movies, key= lambda x: x[1], reverse=True) #Now using the similarity score of each tuple to arrange the similarity scores in descending order\n",
    "    ###### Displaying the recommendation using the index from each tuple associated with the similarity score and fetching the movie name using that index as a reference in the original df\n",
    "    #displaying the top 10 suggestions\n",
    "    i=0\n",
    "    for movie in sorted_movies:\n",
    "        print(get_title_from_index(movie[0]))\n",
    "        i+=1\n",
    "        if i>10:\n",
    "            break\n",
    "m_name = input(\"What was the last movie or TV Show you watched?: \") #try: Narcos, Stranger Things, Friends, Little Things, Special 26, Naam Shabana, Raees\n",
    "suggest(m_name)"
   ]
  },
  {
   "cell_type": "code",
   "execution_count": null,
   "metadata": {},
   "outputs": [],
   "source": []
  }
 ],
 "metadata": {
  "kernelspec": {
   "display_name": "Python 3",
   "language": "python",
   "name": "python3"
  },
  "language_info": {
   "codemirror_mode": {
    "name": "ipython",
    "version": 3
   },
   "file_extension": ".py",
   "mimetype": "text/x-python",
   "name": "python",
   "nbconvert_exporter": "python",
   "pygments_lexer": "ipython3",
   "version": "3.8.1"
  }
 },
 "nbformat": 4,
 "nbformat_minor": 4
}
